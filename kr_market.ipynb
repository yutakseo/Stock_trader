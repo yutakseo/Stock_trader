{
 "cells": [
  {
   "cell_type": "code",
   "execution_count": 1,
   "id": "d36b2ba2",
   "metadata": {},
   "outputs": [],
   "source": [
    "from pykrx import stock\n",
    "from datetime import date"
   ]
  },
  {
   "cell_type": "code",
   "execution_count": 2,
   "id": "27455350",
   "metadata": {},
   "outputs": [
    {
     "name": "stdout",
     "output_type": "stream",
     "text": [
      "KOSPI 종목 수: 960\n",
      "첫 번째 티커: 006840 이름: AK홀딩스\n",
      "               시가     고가     저가     종가       거래량       등락률\n",
      "날짜                                                        \n",
      "2025-09-17  79100  79100  77100  78200  20856317 -1.511335\n",
      "2025-09-18  79100  80500  78600  80500  25619035  2.941176\n",
      "2025-09-19  81100  81200  79600  79700  20898386 -0.993789\n",
      "2025-09-22  81500  84000  81100  83500  27529656  4.767880\n",
      "2025-09-23  85800  85900  83600  84700  22655011  1.437126\n"
     ]
    }
   ],
   "source": [
    "today = date.today().strftime(\"%Y%m%d\")\n",
    "tickers = stock.get_market_ticker_list(today, market=\"KOSPI\")\n",
    "print(\"KOSPI 종목 수:\", len(tickers))\n",
    "print(\"첫 번째 티커:\", tickers[1], \"이름:\", stock.get_market_ticker_name(tickers[1]))\n",
    "\n",
    "df = stock.get_market_ohlcv_by_date(\"20240101\", today, \"005930\")  # 삼성전자\n",
    "print(df.tail())"
   ]
  }
 ],
 "metadata": {
  "kernelspec": {
   "display_name": "Python 3",
   "language": "python",
   "name": "python3"
  },
  "language_info": {
   "codemirror_mode": {
    "name": "ipython",
    "version": 3
   },
   "file_extension": ".py",
   "mimetype": "text/x-python",
   "name": "python",
   "nbconvert_exporter": "python",
   "pygments_lexer": "ipython3",
   "version": "3.10.0"
  }
 },
 "nbformat": 4,
 "nbformat_minor": 5
}
